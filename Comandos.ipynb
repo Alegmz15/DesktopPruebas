{
 "cells": [
  {
   "cell_type": "markdown",
   "metadata": {},
   "source": [
    "Pull: te permite obtener los cambios realizados en el repositorio remoto (por ejemplo, en GitHub) y aplicarlos en tu repositorio local. (si hay algun cambio aparecera \"pull origin\")\n",
    "\n",
    "Push: Enviar tus cambios al repositorio remoto para que otros colaboradores puedan verlos y trabajar con ellos. (push origin)\n",
    "\n",
    "Fetch: te permite ver qué cambios se han realizado y decidir si deseas fusionarlos en tu rama local.\n",
    "\n",
    ".gitignore: herramienta para controlar qué archivos y directorios se deben ignorar en tu repositorio.\n",
    "\n",
    "merge: mezclar los cambios de una versión y otra"
   ]
  }
 ],
 "metadata": {
  "kernelspec": {
   "display_name": "base",
   "language": "python",
   "name": "python3"
  },
  "language_info": {
   "name": "python",
   "version": "3.11.5"
  }
 },
 "nbformat": 4,
 "nbformat_minor": 2
}
