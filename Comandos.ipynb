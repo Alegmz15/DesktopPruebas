{
 "cells": [
  {
   "cell_type": "markdown",
   "metadata": {},
   "source": [
    "pull: permite obtener los cambios realizados en el repositorio remoto (por ejemplo, en GitHub) y aplicarlos en tu repositorio local \"Pull request\".\n",
    "\n",
    "push: envia tus cambios para que otros colaboradores puedan verlos y trabajar con ellos \"Push origin\".\n",
    "\n",
    "fetch: permite ver qué cambios se han realizado y decidir si deseas fusionarlos en tu rama local \"Fetch origin\".\n",
    "\n",
    ".gitignore: es una herramienta para controlar qué archivos y directorios se deben ignorar en tu repositorio.\n",
    "\n",
    "merge: mezlar los cambios en una nueva version con todas esas actualizaciones"
   ]
  }
 ],
 "metadata": {
  "kernelspec": {
   "display_name": "base",
   "language": "python",
   "name": "python3"
  },
  "language_info": {
   "name": "python",
   "version": "0.0.0"
  }
 },
 "nbformat": 4,
 "nbformat_minor": 2
}
