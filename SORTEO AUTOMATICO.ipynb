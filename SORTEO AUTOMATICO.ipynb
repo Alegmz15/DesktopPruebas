{
 "cells": [
  {
   "cell_type": "markdown",
   "metadata": {},
   "source": [
    "Este codigo funciona como un sistema de sorteo automático, al aplicar 'random_winner_list.remove(random_winner)' se elimina el participante que \n",
    "ha conseguido el premio dando lugar a un ganador suplente en el caso de que el primero no se encuentre disponible o no cumpla \n",
    "los requisitos para participar en dicho sorteo y antes de ese comando, 'result_dict' para almacenar los ganadores.\n"
   ]
  },
  {
   "cell_type": "code",
   "execution_count": 9,
   "metadata": {},
   "outputs": [
    {
     "name": "stdout",
     "output_type": "stream",
     "text": [
      "El ganador del sorteo es: ¡Javi!\n",
      "El ganador suplente es... ¡Sara!\n"
     ]
    }
   ],
   "source": [
    "\n",
    "import random\n",
    "\n",
    "random_winner_list = ['Marcos', 'Jose', 'Laura', 'Miguel', 'Sergio', 'Javi', 'Paula' , 'Sara']\n",
    "\n",
    "# Se selecciona un participante aleatorio que será el ganador principal\n",
    "random_winner = random.choice(random_winner_list)\n",
    "\n",
    "print(f\"El ganador del sorteo es: ¡{random_winner}!\")\n",
    "\n",
    "# Guardar el ganador principal en un diccionario\n",
    "result_dict = {\"ganador_principal\": random_winner, \"ganador_suplente\": None}\n",
    "\n",
    "# El ganador en el caso de que el primero no cumpliera los requisitos. \n",
    "random_winner_list.remove(random_winner)  # Elimina al ganador principal de la lista\n",
    "\n",
    "if len(random_winner_list) > 0:\n",
    "    # Selecciona al ganador suplente\n",
    "    random_alternate_winner = random.choice(random_winner_list)\n",
    "    result_dict[\"ganador_suplente\"] = random_alternate_winner\n",
    "    print(f\"El ganador suplente es... ¡{random_alternate_winner}!\")\n",
    "else:\n",
    "    print(\"No hay ganador suplente, ya que todos han ganado.\")"
   ]
  }
 ],
 "metadata": {
  "kernelspec": {
   "display_name": "base",
   "language": "python",
   "name": "python3"
  },
  "language_info": {
   "codemirror_mode": {
    "name": "ipython",
    "version": 3
   },
   "file_extension": ".py",
   "mimetype": "text/x-python",
   "name": "python",
   "nbconvert_exporter": "python",
   "pygments_lexer": "ipython3",
   "version": "3.11.5"
  }
 },
 "nbformat": 4,
 "nbformat_minor": 2
}
